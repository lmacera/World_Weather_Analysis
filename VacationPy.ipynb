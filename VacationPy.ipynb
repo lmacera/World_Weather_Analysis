{
 "cells": [
  {
   "cell_type": "code",
   "execution_count": 25,
   "id": "812b4bed",
   "metadata": {},
   "outputs": [],
   "source": [
    "#Import the dependencies\n",
    "import pandas as pd\n",
    "import gmaps\n",
    "import requests\n",
    "from config import g_key"
   ]
  },
  {
   "cell_type": "code",
   "execution_count": null,
   "id": "7f5a32be",
   "metadata": {
    "scrolled": true
   },
   "outputs": [],
   "source": []
  },
  {
   "cell_type": "code",
   "execution_count": 26,
   "id": "6f2fd356",
   "metadata": {},
   "outputs": [
    {
     "data": {
      "text/html": [
       "<div>\n",
       "<style scoped>\n",
       "    .dataframe tbody tr th:only-of-type {\n",
       "        vertical-align: middle;\n",
       "    }\n",
       "\n",
       "    .dataframe tbody tr th {\n",
       "        vertical-align: top;\n",
       "    }\n",
       "\n",
       "    .dataframe thead th {\n",
       "        text-align: right;\n",
       "    }\n",
       "</style>\n",
       "<table border=\"1\" class=\"dataframe\">\n",
       "  <thead>\n",
       "    <tr style=\"text-align: right;\">\n",
       "      <th></th>\n",
       "      <th>City_ID</th>\n",
       "      <th>City</th>\n",
       "      <th>Country</th>\n",
       "      <th>Date</th>\n",
       "      <th>Lat</th>\n",
       "      <th>Lng</th>\n",
       "      <th>Max Temp</th>\n",
       "      <th>Humidity</th>\n",
       "      <th>Cloudiness</th>\n",
       "      <th>Wind Speed</th>\n",
       "    </tr>\n",
       "  </thead>\n",
       "  <tbody>\n",
       "    <tr>\n",
       "      <th>0</th>\n",
       "      <td>0</td>\n",
       "      <td>Cape Town</td>\n",
       "      <td>ZA</td>\n",
       "      <td>2021-10-21 00:57:04</td>\n",
       "      <td>-33.9258</td>\n",
       "      <td>18.4232</td>\n",
       "      <td>62.11</td>\n",
       "      <td>71</td>\n",
       "      <td>0</td>\n",
       "      <td>3.00</td>\n",
       "    </tr>\n",
       "    <tr>\n",
       "      <th>1</th>\n",
       "      <td>1</td>\n",
       "      <td>Moose Factory</td>\n",
       "      <td>CA</td>\n",
       "      <td>2021-10-21 00:58:26</td>\n",
       "      <td>51.2585</td>\n",
       "      <td>-80.6094</td>\n",
       "      <td>37.40</td>\n",
       "      <td>65</td>\n",
       "      <td>90</td>\n",
       "      <td>6.91</td>\n",
       "    </tr>\n",
       "    <tr>\n",
       "      <th>2</th>\n",
       "      <td>2</td>\n",
       "      <td>Ostrovnoy</td>\n",
       "      <td>RU</td>\n",
       "      <td>2021-10-21 00:58:26</td>\n",
       "      <td>68.0531</td>\n",
       "      <td>39.5131</td>\n",
       "      <td>31.73</td>\n",
       "      <td>73</td>\n",
       "      <td>100</td>\n",
       "      <td>18.12</td>\n",
       "    </tr>\n",
       "    <tr>\n",
       "      <th>3</th>\n",
       "      <td>3</td>\n",
       "      <td>Kruisfontein</td>\n",
       "      <td>ZA</td>\n",
       "      <td>2021-10-21 00:58:27</td>\n",
       "      <td>-34.0033</td>\n",
       "      <td>24.7314</td>\n",
       "      <td>61.83</td>\n",
       "      <td>61</td>\n",
       "      <td>100</td>\n",
       "      <td>2.53</td>\n",
       "    </tr>\n",
       "    <tr>\n",
       "      <th>4</th>\n",
       "      <td>4</td>\n",
       "      <td>Punta Arenas</td>\n",
       "      <td>CL</td>\n",
       "      <td>2021-10-21 00:55:10</td>\n",
       "      <td>-53.1500</td>\n",
       "      <td>-70.9167</td>\n",
       "      <td>44.71</td>\n",
       "      <td>61</td>\n",
       "      <td>20</td>\n",
       "      <td>11.50</td>\n",
       "    </tr>\n",
       "  </tbody>\n",
       "</table>\n",
       "</div>"
      ],
      "text/plain": [
       "   City_ID           City Country                 Date      Lat      Lng  \\\n",
       "0        0      Cape Town      ZA  2021-10-21 00:57:04 -33.9258  18.4232   \n",
       "1        1  Moose Factory      CA  2021-10-21 00:58:26  51.2585 -80.6094   \n",
       "2        2      Ostrovnoy      RU  2021-10-21 00:58:26  68.0531  39.5131   \n",
       "3        3   Kruisfontein      ZA  2021-10-21 00:58:27 -34.0033  24.7314   \n",
       "4        4   Punta Arenas      CL  2021-10-21 00:55:10 -53.1500 -70.9167   \n",
       "\n",
       "   Max Temp  Humidity  Cloudiness  Wind Speed  \n",
       "0     62.11        71           0        3.00  \n",
       "1     37.40        65          90        6.91  \n",
       "2     31.73        73         100       18.12  \n",
       "3     61.83        61         100        2.53  \n",
       "4     44.71        61          20       11.50  "
      ]
     },
     "execution_count": 26,
     "metadata": {},
     "output_type": "execute_result"
    }
   ],
   "source": [
    "# Store the CSV saved into dataframe\n",
    "city_data_df=pd.read_csv(\"weather_data/cities.csv\")\n",
    "city_data_df.head()"
   ]
  },
  {
   "cell_type": "code",
   "execution_count": 27,
   "id": "af6c8083",
   "metadata": {},
   "outputs": [
    {
     "data": {
      "text/plain": [
       "City_ID         int64\n",
       "City           object\n",
       "Country        object\n",
       "Date           object\n",
       "Lat           float64\n",
       "Lng           float64\n",
       "Max Temp      float64\n",
       "Humidity        int64\n",
       "Cloudiness      int64\n",
       "Wind Speed    float64\n",
       "dtype: object"
      ]
     },
     "execution_count": 27,
     "metadata": {},
     "output_type": "execute_result"
    }
   ],
   "source": [
    "city_data_df.dtypes"
   ]
  },
  {
   "cell_type": "code",
   "execution_count": 28,
   "id": "5365281d",
   "metadata": {},
   "outputs": [],
   "source": [
    "# Configure gmaps to use your Google API key.\n",
    "gmaps.configure(api_key=g_key)"
   ]
  },
  {
   "cell_type": "code",
   "execution_count": null,
   "id": "19c5e616",
   "metadata": {},
   "outputs": [],
   "source": []
  },
  {
   "cell_type": "code",
   "execution_count": 29,
   "id": "1acb9ec4",
   "metadata": {},
   "outputs": [],
   "source": [
    "#Get the maximum temperature\n",
    "max_temp=city_data_df[\"Max Temp\"]\n",
    "temps=[]\n",
    "for temp in max_temp:\n",
    "    temps.append(max(temp,0))"
   ]
  },
  {
   "cell_type": "code",
   "execution_count": 30,
   "id": "447c3c49",
   "metadata": {},
   "outputs": [
    {
     "data": {
      "application/vnd.jupyter.widget-view+json": {
       "model_id": "59a4b6130a39474b90f7ec561950d9c4",
       "version_major": 2,
       "version_minor": 0
      },
      "text/plain": [
       "Figure(layout=FigureLayout(height='420px'))"
      ]
     },
     "metadata": {},
     "output_type": "display_data"
    }
   ],
   "source": [
    "# Heatmap of tepmeratures\n",
    "#Get the lat and lng\n",
    "locations=city_data_df[[\"Lat\",\"Lng\"]]\n",
    "#Get the maximum temperature\n",
    "max_temp= city_data_df[\"Max Temp\"]\n",
    "#Assign the figure variable\n",
    "fig= gmaps.figure(center=(30.0, 31.0), zoom_level=1.5)\n",
    "#Assign the heatmaps variable\n",
    "heat_layer = gmaps.heatmap_layer(locations, weights=[max(temp, 0) for temp in max_temp],dissipating=False,max_intensity=300, point_radius=4)\n",
    "#Add the heatmap layer\n",
    "fig.add_layer(heat_layer)\n",
    "#call the fig\n",
    "fig"
   ]
  },
  {
   "cell_type": "code",
   "execution_count": 31,
   "id": "400bef08",
   "metadata": {
    "scrolled": true
   },
   "outputs": [
    {
     "data": {
      "application/vnd.jupyter.widget-view+json": {
       "model_id": "440805128a9344f4bfdadc0b3f6b40bf",
       "version_major": 2,
       "version_minor": 0
      },
      "text/plain": [
       "Figure(layout=FigureLayout(height='420px'))"
      ]
     },
     "metadata": {},
     "output_type": "display_data"
    }
   ],
   "source": [
    "#Heatmap of percentage humidity\n",
    "locations=city_data_df[[\"Lat\",\"Lng\"]]\n",
    "humidity=city_data_df[\"Humidity\"]\n",
    "fig=gmaps.figure(center=(30.0,31.0),zoom_level=1.5)\n",
    "heat_layer=gmaps.heatmap_layer(locations,weights=humidity,dissipating= False,point_radius=4)\n",
    "fig.add_layer(heat_layer)\n",
    "fig"
   ]
  },
  {
   "cell_type": "code",
   "execution_count": 32,
   "id": "7f301817",
   "metadata": {},
   "outputs": [
    {
     "data": {
      "application/vnd.jupyter.widget-view+json": {
       "model_id": "233557100b7f4c3284bade799e448b3d",
       "version_major": 2,
       "version_minor": 0
      },
      "text/plain": [
       "Figure(layout=FigureLayout(height='420px'))"
      ]
     },
     "metadata": {},
     "output_type": "display_data"
    }
   ],
   "source": [
    "#Heatmap of cloudiness\n",
    "locations=city_data_df[[\"Lat\",\"Lng\"]]\n",
    "clouds=city_data_df[\"Cloudiness\"]\n",
    "fig=gmaps.figure(center=(30.0,31.0),zoom_level=1.5)\n",
    "heat_layer=gmaps.heatmap_layer(locations,weights=clouds,dissipating= False,point_radius=4)\n",
    "fig.add_layer(heat_layer)\n",
    "fig"
   ]
  },
  {
   "cell_type": "code",
   "execution_count": 33,
   "id": "92264403",
   "metadata": {},
   "outputs": [
    {
     "data": {
      "application/vnd.jupyter.widget-view+json": {
       "model_id": "532a7300d790434f8e221d18ace6459d",
       "version_major": 2,
       "version_minor": 0
      },
      "text/plain": [
       "Figure(layout=FigureLayout(height='420px'))"
      ]
     },
     "metadata": {},
     "output_type": "display_data"
    }
   ],
   "source": [
    "#Heatmap of Wind Speeds\n",
    "locations=city_data_df[[\"Lat\",\"Lng\"]]\n",
    "wind=city_data_df[\"Wind Speed\"]\n",
    "fig=gmaps.figure(center=(30.0,31.0),zoom_level=1.5)\n",
    "heat_layer=gmaps.heatmap_layer(locations,weights=wind,dissipating= False,point_radius=4)\n",
    "fig.add_layer(heat_layer)\n",
    "fig"
   ]
  },
  {
   "cell_type": "code",
   "execution_count": 34,
   "id": "925a53b6",
   "metadata": {},
   "outputs": [
    {
     "name": "stdout",
     "output_type": "stream",
     "text": [
      "What is the minimum temperature you would like for your trip? \n"
     ]
    },
    {
     "ename": "ValueError",
     "evalue": "could not convert string to float: ",
     "output_type": "error",
     "traceback": [
      "\u001b[1;31m---------------------------------------------------------------------------\u001b[0m",
      "\u001b[1;31mValueError\u001b[0m                                Traceback (most recent call last)",
      "\u001b[1;32m<ipython-input-34-49c180c531de>\u001b[0m in \u001b[0;36m<module>\u001b[1;34m\u001b[0m\n\u001b[0;32m      1\u001b[0m \u001b[1;31m#ASk the customer to add a minimum and maximum temperature value\u001b[0m\u001b[1;33m\u001b[0m\u001b[1;33m\u001b[0m\u001b[1;33m\u001b[0m\u001b[0m\n\u001b[1;32m----> 2\u001b[1;33m \u001b[0mmin_temp\u001b[0m\u001b[1;33m=\u001b[0m\u001b[0mfloat\u001b[0m\u001b[1;33m(\u001b[0m\u001b[0minput\u001b[0m\u001b[1;33m(\u001b[0m\u001b[1;34m\"What is the minimum temperature you would like for your trip? \"\u001b[0m\u001b[1;33m)\u001b[0m\u001b[1;33m)\u001b[0m\u001b[1;33m\u001b[0m\u001b[1;33m\u001b[0m\u001b[0m\n\u001b[0m\u001b[0;32m      3\u001b[0m \u001b[0mmax_temp\u001b[0m\u001b[1;33m=\u001b[0m\u001b[0mfloat\u001b[0m\u001b[1;33m(\u001b[0m\u001b[0minput\u001b[0m\u001b[1;33m(\u001b[0m\u001b[1;34m\"What is the maximum temperature you would like for your trip?  \"\u001b[0m\u001b[1;33m)\u001b[0m\u001b[1;33m)\u001b[0m\u001b[1;33m\u001b[0m\u001b[1;33m\u001b[0m\u001b[0m\n",
      "\u001b[1;31mValueError\u001b[0m: could not convert string to float: "
     ]
    }
   ],
   "source": [
    "#ASk the customer to add a minimum and maximum temperature value\n",
    "min_temp=float(input(\"What is the minimum temperature you would like for your trip? \"))\n",
    "max_temp=float(input(\"What is the maximum temperature you would like for your trip?  \"))"
   ]
  },
  {
   "cell_type": "code",
   "execution_count": 35,
   "id": "8655acd5",
   "metadata": {},
   "outputs": [
    {
     "data": {
      "text/html": [
       "<div>\n",
       "<style scoped>\n",
       "    .dataframe tbody tr th:only-of-type {\n",
       "        vertical-align: middle;\n",
       "    }\n",
       "\n",
       "    .dataframe tbody tr th {\n",
       "        vertical-align: top;\n",
       "    }\n",
       "\n",
       "    .dataframe thead th {\n",
       "        text-align: right;\n",
       "    }\n",
       "</style>\n",
       "<table border=\"1\" class=\"dataframe\">\n",
       "  <thead>\n",
       "    <tr style=\"text-align: right;\">\n",
       "      <th></th>\n",
       "      <th>City_ID</th>\n",
       "      <th>City</th>\n",
       "      <th>Country</th>\n",
       "      <th>Date</th>\n",
       "      <th>Lat</th>\n",
       "      <th>Lng</th>\n",
       "      <th>Max Temp</th>\n",
       "      <th>Humidity</th>\n",
       "      <th>Cloudiness</th>\n",
       "      <th>Wind Speed</th>\n",
       "    </tr>\n",
       "  </thead>\n",
       "  <tbody>\n",
       "    <tr>\n",
       "      <th>8</th>\n",
       "      <td>8</td>\n",
       "      <td>Marsh Harbour</td>\n",
       "      <td>BS</td>\n",
       "      <td>2021-10-21 00:58:29</td>\n",
       "      <td>26.5412</td>\n",
       "      <td>-77.0636</td>\n",
       "      <td>80.20</td>\n",
       "      <td>56</td>\n",
       "      <td>92</td>\n",
       "      <td>15.50</td>\n",
       "    </tr>\n",
       "    <tr>\n",
       "      <th>10</th>\n",
       "      <td>10</td>\n",
       "      <td>Veraval</td>\n",
       "      <td>IN</td>\n",
       "      <td>2021-10-21 00:58:29</td>\n",
       "      <td>20.9000</td>\n",
       "      <td>70.3667</td>\n",
       "      <td>76.01</td>\n",
       "      <td>70</td>\n",
       "      <td>84</td>\n",
       "      <td>8.32</td>\n",
       "    </tr>\n",
       "    <tr>\n",
       "      <th>11</th>\n",
       "      <td>11</td>\n",
       "      <td>Carutapera</td>\n",
       "      <td>BR</td>\n",
       "      <td>2021-10-21 00:58:30</td>\n",
       "      <td>-1.1950</td>\n",
       "      <td>-46.0200</td>\n",
       "      <td>78.67</td>\n",
       "      <td>81</td>\n",
       "      <td>14</td>\n",
       "      <td>6.58</td>\n",
       "    </tr>\n",
       "    <tr>\n",
       "      <th>13</th>\n",
       "      <td>13</td>\n",
       "      <td>Paracuru</td>\n",
       "      <td>BR</td>\n",
       "      <td>2021-10-21 00:58:31</td>\n",
       "      <td>-3.4100</td>\n",
       "      <td>-39.0306</td>\n",
       "      <td>81.10</td>\n",
       "      <td>80</td>\n",
       "      <td>100</td>\n",
       "      <td>8.10</td>\n",
       "    </tr>\n",
       "    <tr>\n",
       "      <th>16</th>\n",
       "      <td>16</td>\n",
       "      <td>Gorom-Gorom</td>\n",
       "      <td>BF</td>\n",
       "      <td>2021-10-21 00:58:32</td>\n",
       "      <td>14.4439</td>\n",
       "      <td>-0.2361</td>\n",
       "      <td>88.16</td>\n",
       "      <td>34</td>\n",
       "      <td>100</td>\n",
       "      <td>4.54</td>\n",
       "    </tr>\n",
       "    <tr>\n",
       "      <th>17</th>\n",
       "      <td>17</td>\n",
       "      <td>Dingle</td>\n",
       "      <td>PH</td>\n",
       "      <td>2021-10-21 00:58:32</td>\n",
       "      <td>10.9995</td>\n",
       "      <td>122.6711</td>\n",
       "      <td>83.30</td>\n",
       "      <td>80</td>\n",
       "      <td>89</td>\n",
       "      <td>6.67</td>\n",
       "    </tr>\n",
       "    <tr>\n",
       "      <th>21</th>\n",
       "      <td>21</td>\n",
       "      <td>Trairi</td>\n",
       "      <td>BR</td>\n",
       "      <td>2021-10-21 00:55:55</td>\n",
       "      <td>-3.2778</td>\n",
       "      <td>-39.2689</td>\n",
       "      <td>79.43</td>\n",
       "      <td>80</td>\n",
       "      <td>100</td>\n",
       "      <td>6.53</td>\n",
       "    </tr>\n",
       "    <tr>\n",
       "      <th>30</th>\n",
       "      <td>30</td>\n",
       "      <td>Biltine</td>\n",
       "      <td>TD</td>\n",
       "      <td>2021-10-21 00:58:38</td>\n",
       "      <td>14.5333</td>\n",
       "      <td>20.9167</td>\n",
       "      <td>85.19</td>\n",
       "      <td>19</td>\n",
       "      <td>96</td>\n",
       "      <td>12.30</td>\n",
       "    </tr>\n",
       "    <tr>\n",
       "      <th>35</th>\n",
       "      <td>35</td>\n",
       "      <td>Hobyo</td>\n",
       "      <td>SO</td>\n",
       "      <td>2021-10-21 00:58:39</td>\n",
       "      <td>5.3505</td>\n",
       "      <td>48.5268</td>\n",
       "      <td>78.37</td>\n",
       "      <td>79</td>\n",
       "      <td>54</td>\n",
       "      <td>12.57</td>\n",
       "    </tr>\n",
       "    <tr>\n",
       "      <th>36</th>\n",
       "      <td>36</td>\n",
       "      <td>Bengkulu</td>\n",
       "      <td>ID</td>\n",
       "      <td>2021-10-21 00:58:40</td>\n",
       "      <td>-3.8004</td>\n",
       "      <td>102.2655</td>\n",
       "      <td>78.21</td>\n",
       "      <td>82</td>\n",
       "      <td>21</td>\n",
       "      <td>2.30</td>\n",
       "    </tr>\n",
       "  </tbody>\n",
       "</table>\n",
       "</div>"
      ],
      "text/plain": [
       "    City_ID           City Country                 Date      Lat       Lng  \\\n",
       "8         8  Marsh Harbour      BS  2021-10-21 00:58:29  26.5412  -77.0636   \n",
       "10       10        Veraval      IN  2021-10-21 00:58:29  20.9000   70.3667   \n",
       "11       11     Carutapera      BR  2021-10-21 00:58:30  -1.1950  -46.0200   \n",
       "13       13       Paracuru      BR  2021-10-21 00:58:31  -3.4100  -39.0306   \n",
       "16       16    Gorom-Gorom      BF  2021-10-21 00:58:32  14.4439   -0.2361   \n",
       "17       17         Dingle      PH  2021-10-21 00:58:32  10.9995  122.6711   \n",
       "21       21         Trairi      BR  2021-10-21 00:55:55  -3.2778  -39.2689   \n",
       "30       30        Biltine      TD  2021-10-21 00:58:38  14.5333   20.9167   \n",
       "35       35          Hobyo      SO  2021-10-21 00:58:39   5.3505   48.5268   \n",
       "36       36       Bengkulu      ID  2021-10-21 00:58:40  -3.8004  102.2655   \n",
       "\n",
       "    Max Temp  Humidity  Cloudiness  Wind Speed  \n",
       "8      80.20        56          92       15.50  \n",
       "10     76.01        70          84        8.32  \n",
       "11     78.67        81          14        6.58  \n",
       "13     81.10        80         100        8.10  \n",
       "16     88.16        34         100        4.54  \n",
       "17     83.30        80          89        6.67  \n",
       "21     79.43        80         100        6.53  \n",
       "30     85.19        19          96       12.30  \n",
       "35     78.37        79          54       12.57  \n",
       "36     78.21        82          21        2.30  "
      ]
     },
     "execution_count": 35,
     "metadata": {},
     "output_type": "execute_result"
    }
   ],
   "source": [
    "#Filter the data set for max and min temperatures\n",
    "preferred_cities_df=city_data_df.loc[(city_data_df[\"Max Temp\"]<=max_temp)&(city_data_df[\"Max Temp\"]>=min_temp)]\n",
    "preferred_cities_df.head(10)"
   ]
  },
  {
   "cell_type": "code",
   "execution_count": 36,
   "id": "d79409ab",
   "metadata": {},
   "outputs": [
    {
     "data": {
      "text/plain": [
       "City_ID       0\n",
       "City          0\n",
       "Country       0\n",
       "Date          0\n",
       "Lat           0\n",
       "Lng           0\n",
       "Max Temp      0\n",
       "Humidity      0\n",
       "Cloudiness    0\n",
       "Wind Speed    0\n",
       "dtype: int64"
      ]
     },
     "execution_count": 36,
     "metadata": {},
     "output_type": "execute_result"
    }
   ],
   "source": [
    "preferred_cities_df.isnull().sum()"
   ]
  },
  {
   "cell_type": "code",
   "execution_count": 37,
   "id": "6dc6ac02",
   "metadata": {},
   "outputs": [
    {
     "data": {
      "text/plain": [
       "City_ID       129\n",
       "City          129\n",
       "Country       129\n",
       "Date          129\n",
       "Lat           129\n",
       "Lng           129\n",
       "Max Temp      129\n",
       "Humidity      129\n",
       "Cloudiness    129\n",
       "Wind Speed    129\n",
       "dtype: int64"
      ]
     },
     "execution_count": 37,
     "metadata": {},
     "output_type": "execute_result"
    }
   ],
   "source": [
    "preferred_cities_df.count()"
   ]
  },
  {
   "cell_type": "code",
   "execution_count": 38,
   "id": "84310ca2",
   "metadata": {},
   "outputs": [
    {
     "data": {
      "text/html": [
       "<div>\n",
       "<style scoped>\n",
       "    .dataframe tbody tr th:only-of-type {\n",
       "        vertical-align: middle;\n",
       "    }\n",
       "\n",
       "    .dataframe tbody tr th {\n",
       "        vertical-align: top;\n",
       "    }\n",
       "\n",
       "    .dataframe thead th {\n",
       "        text-align: right;\n",
       "    }\n",
       "</style>\n",
       "<table border=\"1\" class=\"dataframe\">\n",
       "  <thead>\n",
       "    <tr style=\"text-align: right;\">\n",
       "      <th></th>\n",
       "      <th>City</th>\n",
       "      <th>Country</th>\n",
       "      <th>Max Temp</th>\n",
       "      <th>Lat</th>\n",
       "      <th>Lng</th>\n",
       "      <th>Hotel Name</th>\n",
       "    </tr>\n",
       "  </thead>\n",
       "  <tbody>\n",
       "    <tr>\n",
       "      <th>8</th>\n",
       "      <td>Marsh Harbour</td>\n",
       "      <td>BS</td>\n",
       "      <td>80.20</td>\n",
       "      <td>26.5412</td>\n",
       "      <td>-77.0636</td>\n",
       "      <td></td>\n",
       "    </tr>\n",
       "    <tr>\n",
       "      <th>10</th>\n",
       "      <td>Veraval</td>\n",
       "      <td>IN</td>\n",
       "      <td>76.01</td>\n",
       "      <td>20.9000</td>\n",
       "      <td>70.3667</td>\n",
       "      <td></td>\n",
       "    </tr>\n",
       "    <tr>\n",
       "      <th>11</th>\n",
       "      <td>Carutapera</td>\n",
       "      <td>BR</td>\n",
       "      <td>78.67</td>\n",
       "      <td>-1.1950</td>\n",
       "      <td>-46.0200</td>\n",
       "      <td></td>\n",
       "    </tr>\n",
       "    <tr>\n",
       "      <th>13</th>\n",
       "      <td>Paracuru</td>\n",
       "      <td>BR</td>\n",
       "      <td>81.10</td>\n",
       "      <td>-3.4100</td>\n",
       "      <td>-39.0306</td>\n",
       "      <td></td>\n",
       "    </tr>\n",
       "    <tr>\n",
       "      <th>16</th>\n",
       "      <td>Gorom-Gorom</td>\n",
       "      <td>BF</td>\n",
       "      <td>88.16</td>\n",
       "      <td>14.4439</td>\n",
       "      <td>-0.2361</td>\n",
       "      <td></td>\n",
       "    </tr>\n",
       "    <tr>\n",
       "      <th>17</th>\n",
       "      <td>Dingle</td>\n",
       "      <td>PH</td>\n",
       "      <td>83.30</td>\n",
       "      <td>10.9995</td>\n",
       "      <td>122.6711</td>\n",
       "      <td></td>\n",
       "    </tr>\n",
       "    <tr>\n",
       "      <th>21</th>\n",
       "      <td>Trairi</td>\n",
       "      <td>BR</td>\n",
       "      <td>79.43</td>\n",
       "      <td>-3.2778</td>\n",
       "      <td>-39.2689</td>\n",
       "      <td></td>\n",
       "    </tr>\n",
       "    <tr>\n",
       "      <th>30</th>\n",
       "      <td>Biltine</td>\n",
       "      <td>TD</td>\n",
       "      <td>85.19</td>\n",
       "      <td>14.5333</td>\n",
       "      <td>20.9167</td>\n",
       "      <td></td>\n",
       "    </tr>\n",
       "    <tr>\n",
       "      <th>35</th>\n",
       "      <td>Hobyo</td>\n",
       "      <td>SO</td>\n",
       "      <td>78.37</td>\n",
       "      <td>5.3505</td>\n",
       "      <td>48.5268</td>\n",
       "      <td></td>\n",
       "    </tr>\n",
       "    <tr>\n",
       "      <th>36</th>\n",
       "      <td>Bengkulu</td>\n",
       "      <td>ID</td>\n",
       "      <td>78.21</td>\n",
       "      <td>-3.8004</td>\n",
       "      <td>102.2655</td>\n",
       "      <td></td>\n",
       "    </tr>\n",
       "  </tbody>\n",
       "</table>\n",
       "</div>"
      ],
      "text/plain": [
       "             City Country  Max Temp      Lat       Lng Hotel Name\n",
       "8   Marsh Harbour      BS     80.20  26.5412  -77.0636           \n",
       "10        Veraval      IN     76.01  20.9000   70.3667           \n",
       "11     Carutapera      BR     78.67  -1.1950  -46.0200           \n",
       "13       Paracuru      BR     81.10  -3.4100  -39.0306           \n",
       "16    Gorom-Gorom      BF     88.16  14.4439   -0.2361           \n",
       "17         Dingle      PH     83.30  10.9995  122.6711           \n",
       "21         Trairi      BR     79.43  -3.2778  -39.2689           \n",
       "30        Biltine      TD     85.19  14.5333   20.9167           \n",
       "35          Hobyo      SO     78.37   5.3505   48.5268           \n",
       "36       Bengkulu      ID     78.21  -3.8004  102.2655           "
      ]
     },
     "execution_count": 38,
     "metadata": {},
     "output_type": "execute_result"
    }
   ],
   "source": [
    "#Creat DataFrame called hotel_df to store hotel data\n",
    "hotel_df=preferred_cities_df[[\"City\",\"Country\",\"Max Temp\",\"Lat\",\"Lng\"]].copy()\n",
    "hotel_df[\"Hotel Name\"]=\"\"\n",
    "hotel_df.head(10)"
   ]
  },
  {
   "cell_type": "code",
   "execution_count": 39,
   "id": "c2aa7e73",
   "metadata": {},
   "outputs": [],
   "source": [
    "#Set Parameters\n",
    "params={\n",
    "    \"radius\": 5000,\n",
    "    \"type\":\"lodging\",\n",
    "    \"key\": g_key\n",
    "}\n",
    "\n",
    "#Iterate Through the dataFrame\n",
    "for index, row in hotel_df.iterrows():\n",
    "    #Get lat and lng\n",
    "    lat=row[\"Lat\"]\n",
    "    lng=row[\"Lng\"]\n",
    "#Add the latitude and longitude to location key for the params dictionary.\n",
    "    params[\"location\"]=f\"{lat},{lng}\"\n",
    "# Use the search term: \"lodging\" and our latitude and longitude.\n",
    "base_url=\"https://maps.googleapis.com/maps/api/place/nearbysearch/json\"\n",
    "# Make request and get the JSON data from the search.\n",
    "hotels = requests.get(base_url, params=params).json()\n",
    "# Grab the first hotel from the results and store the name.\n",
    "try:\n",
    "    hotel_df.loc[index, \"Hotel Name\"] = hotels[\"results\"][0][\"name\"]\n",
    "except(IndexError):\n",
    "    print(\"Hotel not found....skipping\")"
   ]
  },
  {
   "cell_type": "code",
   "execution_count": 40,
   "id": "d7e227d0",
   "metadata": {},
   "outputs": [
    {
     "data": {
      "application/vnd.jupyter.widget-view+json": {
       "model_id": "1ddda1688e1e4f75a805858929be4bdc",
       "version_major": 2,
       "version_minor": 0
      },
      "text/plain": [
       "Figure(layout=FigureLayout(height='420px'))"
      ]
     },
     "metadata": {},
     "output_type": "display_data"
    }
   ],
   "source": [
    "# Add a heatmap of temperature for the vacation spots.\n",
    "locations = hotel_df[[\"Lat\", \"Lng\"]]\n",
    "max_temp = hotel_df[\"Max Temp\"]\n",
    "fig = gmaps.figure(center=(30.0, 31.0), zoom_level=1.5)\n",
    "heat_layer = gmaps.heatmap_layer(locations, weights=max_temp, dissipating=False,\n",
    "             max_intensity=300, point_radius=4)\n",
    "\n",
    "fig.add_layer(heat_layer)\n",
    "# Call the figure to plot the data.\n",
    "fig"
   ]
  },
  {
   "cell_type": "code",
   "execution_count": 41,
   "id": "791f0adf",
   "metadata": {},
   "outputs": [
    {
     "data": {
      "application/vnd.jupyter.widget-view+json": {
       "model_id": "beea95c208ab4b0eae71fc2a23196b56",
       "version_major": 2,
       "version_minor": 0
      },
      "text/plain": [
       "Figure(layout=FigureLayout(height='420px'))"
      ]
     },
     "metadata": {},
     "output_type": "display_data"
    }
   ],
   "source": [
    "# Add a heatmap of temperature for the vacation spots.\n",
    "locations = hotel_df[[\"Lat\", \"Lng\"]]\n",
    "max_temp = hotel_df[\"Max Temp\"]\n",
    "fig = gmaps.figure(center=(30.0, 31.0), zoom_level=2.0)\n",
    "heat_layer = gmaps.heatmap_layer(locations, weights=max_temp, dissipating=False,\n",
    "             max_intensity=300, point_radius=4)\n",
    "marker_layer=gmaps.marker_layer(locations)\n",
    "fig.add_layer(heat_layer)\n",
    "fig.add_layer(marker_layer)\n",
    "# Call the figure to plot the data.\n",
    "fig"
   ]
  },
  {
   "cell_type": "code",
   "execution_count": 42,
   "id": "6a96d063",
   "metadata": {},
   "outputs": [],
   "source": [
    "info_box_template = \"\"\"\n",
    "<dl>\n",
    "<dt>Hotel Name</dt><dd>{Hotel Name}</dd>\n",
    "<dt>City</dt><dd>{City}</dd>\n",
    "<dt>Country</dt><dd>{Country}</dd>\n",
    "<dt>Max Temp</dt><dd>{Max Temp}</dd>\n",
    "</dl>\n",
    "\"\"\""
   ]
  },
  {
   "cell_type": "code",
   "execution_count": 43,
   "id": "dd3b6c2e",
   "metadata": {},
   "outputs": [],
   "source": [
    "# Store the DataFrame Row.\n",
    "hotel_info = [info_box_template.format(**row) for index, row in hotel_df.iterrows()]"
   ]
  },
  {
   "cell_type": "code",
   "execution_count": 44,
   "id": "09365d70",
   "metadata": {},
   "outputs": [
    {
     "data": {
      "application/vnd.jupyter.widget-view+json": {
       "model_id": "814aff6a49de406d8bba3dde13906472",
       "version_major": 2,
       "version_minor": 0
      },
      "text/plain": [
       "Figure(layout=FigureLayout(height='420px'))"
      ]
     },
     "metadata": {},
     "output_type": "display_data"
    }
   ],
   "source": [
    "# Add a heatmap of temperature for the vacation spots.\n",
    "locations = hotel_df[[\"Lat\", \"Lng\"]]\n",
    "max_temp = hotel_df[\"Max Temp\"]\n",
    "fig = gmaps.figure(center=(30.0, 31.0), zoom_level=2.0)\n",
    "heat_layer = gmaps.heatmap_layer(locations, weights=max_temp, dissipating=False,\n",
    "             max_intensity=300, point_radius=4)\n",
    "marker_layer=gmaps.marker_layer(locations,info_box_content=hotel_info)\n",
    "fig.add_layer(heat_layer)\n",
    "fig.add_layer(marker_layer)\n",
    "# Call the figure to plot the data.\n",
    "fig"
   ]
  },
  {
   "cell_type": "code",
   "execution_count": null,
   "id": "54c71ecd",
   "metadata": {},
   "outputs": [],
   "source": []
  },
  {
   "cell_type": "code",
   "execution_count": null,
   "id": "c5d84c77",
   "metadata": {},
   "outputs": [],
   "source": []
  },
  {
   "cell_type": "code",
   "execution_count": null,
   "id": "3dbfe5d4",
   "metadata": {},
   "outputs": [],
   "source": []
  },
  {
   "cell_type": "code",
   "execution_count": null,
   "id": "994d5e77",
   "metadata": {},
   "outputs": [],
   "source": []
  }
 ],
 "metadata": {
  "kernelspec": {
   "display_name": "PythonData",
   "language": "python",
   "name": "pythondata"
  },
  "language_info": {
   "codemirror_mode": {
    "name": "ipython",
    "version": 3
   },
   "file_extension": ".py",
   "mimetype": "text/x-python",
   "name": "python",
   "nbconvert_exporter": "python",
   "pygments_lexer": "ipython3",
   "version": "3.7.10"
  }
 },
 "nbformat": 4,
 "nbformat_minor": 5
}
